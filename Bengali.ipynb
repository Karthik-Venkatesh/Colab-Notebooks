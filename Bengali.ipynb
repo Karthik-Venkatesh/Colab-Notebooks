{
  "nbformat": 4,
  "nbformat_minor": 0,
  "metadata": {
    "colab": {
      "name": "Bengali.ipynb",
      "provenance": [],
      "toc_visible": true,
      "include_colab_link": true
    },
    "kernelspec": {
      "name": "python3",
      "display_name": "Python 3"
    }
  },
  "cells": [
    {
      "cell_type": "markdown",
      "metadata": {
        "id": "view-in-github",
        "colab_type": "text"
      },
      "source": [
        "<a href=\"https://colab.research.google.com/github/Karthik-Venkatesh/Colab-Notebooks/blob/master/Bengali.ipynb\" target=\"_parent\"><img src=\"https://colab.research.google.com/assets/colab-badge.svg\" alt=\"Open In Colab\"/></a>"
      ]
    },
    {
      "cell_type": "markdown",
      "metadata": {
        "id": "jEzpQ74z0Vip",
        "colab_type": "text"
      },
      "source": [
        ""
      ]
    },
    {
      "cell_type": "markdown",
      "metadata": {
        "id": "TEoEPqks00i4",
        "colab_type": "text"
      },
      "source": [
        "# Download Datasets"
      ]
    },
    {
      "cell_type": "code",
      "metadata": {
        "id": "rUuhIsXj07ez",
        "colab_type": "code",
        "colab": {
          "base_uri": "https://localhost:8080/",
          "height": 122
        },
        "outputId": "540840d1-6d2b-414b-f4e0-23c167f5fd8a"
      },
      "source": [
        "from google.colab import drive\n",
        "drive.mount('/content/gdrive')"
      ],
      "execution_count": 1,
      "outputs": [
        {
          "output_type": "stream",
          "text": [
            "Go to this URL in a browser: https://accounts.google.com/o/oauth2/auth?client_id=947318989803-6bn6qk8qdgf4n4g3pfee6491hc0brc4i.apps.googleusercontent.com&redirect_uri=urn%3aietf%3awg%3aoauth%3a2.0%3aoob&response_type=code&scope=email%20https%3a%2f%2fwww.googleapis.com%2fauth%2fdocs.test%20https%3a%2f%2fwww.googleapis.com%2fauth%2fdrive%20https%3a%2f%2fwww.googleapis.com%2fauth%2fdrive.photos.readonly%20https%3a%2f%2fwww.googleapis.com%2fauth%2fpeopleapi.readonly\n",
            "\n",
            "Enter your authorization code:\n",
            "··········\n",
            "Mounted at /content/gdrive\n"
          ],
          "name": "stdout"
        }
      ]
    },
    {
      "cell_type": "code",
      "metadata": {
        "id": "LeSfdnCb1IMp",
        "colab_type": "code",
        "colab": {
          "base_uri": "https://localhost:8080/",
          "height": 34
        },
        "outputId": "3ad95039-402e-466b-9ce8-bfa1e3830f57"
      },
      "source": [
        "kaggle_json_path = 'gdrive/My Drive/kaggle/kaggle.json'\n",
        "\n",
        "import os\n",
        "if os.path.isdir('/content/.kaggle/'):\n",
        "  print('/content/.kaggle is already available')\n",
        "else:\n",
        "  os.mkdir('/content/.kaggle/')\n",
        "\n",
        "import shutil\n",
        "shutil.copyfile(kaggle_json_path, '/content/.kaggle/kaggle.json')"
      ],
      "execution_count": 21,
      "outputs": [
        {
          "output_type": "execute_result",
          "data": {
            "text/plain": [
              "'/content/.kaggle/kaggle.json'"
            ]
          },
          "metadata": {
            "tags": []
          },
          "execution_count": 21
        }
      ]
    },
    {
      "cell_type": "code",
      "metadata": {
        "id": "9NIOjDhrwvuV",
        "colab_type": "code",
        "colab": {
          "base_uri": "https://localhost:8080/",
          "height": 663
        },
        "outputId": "a91430e0-de3f-49d4-d923-c42a629570db"
      },
      "source": [
        "# Info on how to get your api key (kaggle.json) here: https://github.com/Kaggle/kaggle-api#api-credentials\n",
        "# !pip install kaggle\n",
        "\n",
        "!cp /content/.kaggle/kaggle.json ~/.kaggle/kaggle.json\n",
        "!kaggle config set -n path -v /content\n",
        "!chmod 600 /root/.kaggle/kaggle.json\n",
        "\n",
        "!kaggle competitions download -c bengaliai-cv19"
      ],
      "execution_count": 28,
      "outputs": [
        {
          "output_type": "stream",
          "text": [
            "- path is now set to: /content\n",
            "Warning: Looks like you're using an outdated API Version, please consider updating (server 1.5.6 / client 1.5.4)\n",
            "Downloading sample_submission.csv to /content/competitions/bengaliai-cv19\n",
            "  0% 0.00/944 [00:00<?, ?B/s]\n",
            "100% 944/944 [00:00<00:00, 772kB/s]\n",
            "Downloading train.csv.zip to /content/competitions/bengaliai-cv19\n",
            "  0% 0.00/1.32M [00:00<?, ?B/s]\n",
            "100% 1.32M/1.32M [00:00<00:00, 89.5MB/s]\n",
            "Downloading test_image_data_1.parquet.zip to /content/competitions/bengaliai-cv19\n",
            "  0% 0.00/1.30M [00:00<?, ?B/s]\n",
            "100% 1.30M/1.30M [00:00<00:00, 86.6MB/s]\n",
            "Downloading test_image_data_0.parquet.zip to /content/competitions/bengaliai-cv19\n",
            "  0% 0.00/1.18M [00:00<?, ?B/s]\n",
            "100% 1.18M/1.18M [00:00<00:00, 170MB/s]\n",
            "Downloading test_image_data_3.parquet.zip to /content/competitions/bengaliai-cv19\n",
            "  0% 0.00/1.28M [00:00<?, ?B/s]\n",
            "100% 1.28M/1.28M [00:00<00:00, 183MB/s]\n",
            "Downloading test_image_data_2.parquet.zip to /content/competitions/bengaliai-cv19\n",
            "  0% 0.00/1.25M [00:00<?, ?B/s]\n",
            "100% 1.25M/1.25M [00:00<00:00, 177MB/s]\n",
            "Downloading train_image_data_1.parquet.zip to /content/competitions/bengaliai-cv19\n",
            " 99% 978M/986M [00:26<00:00, 36.1MB/s]\n",
            "100% 986M/986M [00:26<00:00, 38.7MB/s]\n",
            "Downloading test.csv to /content/competitions/bengaliai-cv19\n",
            "  0% 0.00/1.70k [00:00<?, ?B/s]\n",
            "100% 1.70k/1.70k [00:00<00:00, 1.70MB/s]\n",
            "Downloading train_image_data_2.parquet.zip to /content/competitions/bengaliai-cv19\n",
            " 98% 977M/992M [00:37<00:00, 18.1MB/s]\n",
            "100% 992M/992M [00:37<00:00, 27.9MB/s]\n",
            "Downloading class_map.csv to /content/competitions/bengaliai-cv19\n",
            "  0% 0.00/4.72k [00:00<?, ?B/s]\n",
            "100% 4.72k/4.72k [00:00<00:00, 3.70MB/s]\n",
            "Downloading train_image_data_0.parquet.zip to /content/competitions/bengaliai-cv19\n",
            " 99% 983M/991M [00:20<00:00, 38.9MB/s]\n",
            "100% 991M/991M [00:20<00:00, 49.9MB/s]\n",
            "Downloading train_image_data_3.parquet.zip to /content/competitions/bengaliai-cv19\n",
            "100% 990M/993M [00:14<00:00, 90.7MB/s]\n",
            "100% 993M/993M [00:14<00:00, 71.4MB/s]\n"
          ],
          "name": "stdout"
        }
      ]
    },
    {
      "cell_type": "code",
      "metadata": {
        "id": "KanH8nni9IdS",
        "colab_type": "code",
        "colab": {}
      },
      "source": [
        ""
      ],
      "execution_count": 0,
      "outputs": []
    }
  ]
}